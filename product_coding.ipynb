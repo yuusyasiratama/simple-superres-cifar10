{
 "cells": [
  {
   "cell_type": "markdown",
   "id": "471cfaba",
   "metadata": {},
   "source": [
    "# プロダクト開発演習\n",
    "\n",
    "## テーマ\n",
    "高解像度の画像への変換\n",
    "\n",
    "## 目的\n",
    "低解像度画像を高解像度画像にするアップサンプリング\n",
    "\n",
    "## データセット\n",
    "cifar10,cifar100\n",
    "\n",
    "## 簡単な設計\n",
    "CIFAR-10 で低解像→高解像\n",
    "\n",
    "- 入力：32×32 を一旦 16×16 に縮小し、32×32 に整形した **低解像の画像（LR）**\n",
    "- 教師：データセットに入っている **32×32 の画像（HR）**\n",
    "- 目的：**LR → HR** を再構成（MSE を最小化、PSNR で評価）"
   ]
  },
  {
   "cell_type": "markdown",
   "id": "73b3c2b6",
   "metadata": {},
   "source": [
    "## 1. セットアップ & 再現性設定"
   ]
  },
  {
   "cell_type": "code",
   "execution_count": 2,
   "id": "c7f64013",
   "metadata": {},
   "outputs": [
    {
     "data": {
      "text/plain": [
       "'cpu'"
      ]
     },
     "execution_count": 2,
     "metadata": {},
     "output_type": "execute_result"
    }
   ],
   "source": [
    "import sys\n",
    "\n",
    "import os, math, random\n",
    "import numpy as np\n",
    "import torch\n",
    "import torch.nn as nn\n",
    "import torch.nn.functional as F\n",
    "from torchvision import datasets, transforms, utils\n",
    "from torch.utils.data import DataLoader\n",
    "import matplotlib.pyplot as plt\n",
    "\n",
    "# 乱数シード固定（再現性）\n",
    "SEED = 42\n",
    "random.seed(SEED); np.random.seed(SEED)\n",
    "torch.manual_seed(SEED); torch.cuda.manual_seed_all(SEED)\n",
    "\n",
    "DEVICE = \"cuda\" if torch.cuda.is_available() else \"cpu\"\n",
    "DEVICE"
   ]
  },
  {
   "cell_type": "markdown",
   "id": "e602928f",
   "metadata": {},
   "source": [
    "## 2. 設定（ハイパーパラメータ）"
   ]
  },
  {
   "cell_type": "code",
   "execution_count": 3,
   "id": "ce4b4c2e",
   "metadata": {},
   "outputs": [
    {
     "data": {
      "text/plain": [
       "{'batch_size': 128,\n",
       " 'epochs': 15,\n",
       " 'lr': 0.002,\n",
       " 'weight_decay': 1e-05,\n",
       " 'low_size': 16,\n",
       " 'high_size': 32,\n",
       " 'save_dir': './runs_baseline_ipynb'}"
      ]
     },
     "execution_count": 3,
     "metadata": {},
     "output_type": "execute_result"
    }
   ],
   "source": [
    "\n",
    "CFG = dict(\n",
    "    batch_size=128,\n",
    "    epochs=15,              # 最小構成なので短め\n",
    "    lr=2e-3,\n",
    "    weight_decay=1e-5,\n",
    "    low_size=16,\n",
    "    high_size=32,\n",
    "    save_dir=\"./runs_baseline_ipynb\"\n",
    ")\n",
    "os.makedirs(CFG[\"save_dir\"], exist_ok=True)\n",
    "CFG"
   ]
  },
  {
   "cell_type": "markdown",
   "id": "0966368a",
   "metadata": {},
   "source": [
    "## 3. データ前処理（CIFAR-10 を LR/HR に分ける）"
   ]
  },
  {
   "cell_type": "code",
   "execution_count": 4,
   "id": "0e59bf16",
   "metadata": {},
   "outputs": [],
   "source": [
    "\n",
    "to_tensor = transforms.ToTensor()\n",
    "trainset = datasets.CIFAR10(root=\"./data\", train=True, download=True, transform=to_tensor)\n",
    "testset  = datasets.CIFAR10(root=\"./data\", train=False, download=True, transform=to_tensor)\n",
    "\n",
    "train_loader = DataLoader(trainset, batch_size=CFG[\"batch_size\"], shuffle=True, num_workers=2, pin_memory=True)\n",
    "test_loader  = DataLoader(testset,  batch_size=CFG[\"batch_size\"], shuffle=False, num_workers=2, pin_memory=True)\n",
    "\n",
    "def make_low_res(x, low=16, high=32):\n",
    "    # x: (B,3,32,32) in [0,1]\n",
    "    lr_small = F.interpolate(x, size=(low, low), mode=\"bilinear\", align_corners=False)\n",
    "    lr_up    = F.interpolate(lr_small, size=(high, high), mode=\"bilinear\", align_corners=False)\n",
    "    return lr_up, x  # (入力LR(拡大), 教師HR)\n"
   ]
  },
  {
   "cell_type": "markdown",
   "id": "edcc781c",
   "metadata": {},
   "source": [
    "## 4. モデル（最小構成：BN/Skip なし、Upsample+Conv）"
   ]
  },
  {
   "cell_type": "code",
   "execution_count": 5,
   "id": "0b872749",
   "metadata": {},
   "outputs": [
    {
     "data": {
      "text/plain": [
       "0.297219"
      ]
     },
     "execution_count": 5,
     "metadata": {},
     "output_type": "execute_result"
    }
   ],
   "source": [
    "\n",
    "def conv_block(ic, oc):\n",
    "    return nn.Sequential(nn.Conv2d(ic, oc, 3, padding=1), nn.ReLU(inplace=True))\n",
    "\n",
    "class CAE_Baseline(nn.Module):\n",
    "    def __init__(self):\n",
    "        super().__init__()\n",
    "        # Encoder: Conv→Conv→Pool→Conv（中間層3層以上）\n",
    "        self.e1 = conv_block(3, 64)    # 32x32\n",
    "        self.e2 = conv_block(64, 128)  # 32x32\n",
    "        self.pool = nn.MaxPool2d(2)    # 32→16\n",
    "        self.e3 = conv_block(128, 128) # 16x16 (bottleneck)\n",
    "\n",
    "        # Decoder: Upsample(×2) + Conv（転置畳み込みは使わない最小構成）\n",
    "        self.up = nn.Upsample(scale_factor=2, mode=\"nearest\")  # 16→32\n",
    "        self.d1 = conv_block(128, 64)\n",
    "        self.out = nn.Conv2d(64, 3, kernel_size=1)  # 32x32, 3ch\n",
    "\n",
    "    def forward(self, x):\n",
    "        x = self.e1(x)\n",
    "        x = self.e2(x)\n",
    "        x = self.pool(x)\n",
    "        x = self.e3(x)\n",
    "        x = self.up(x)\n",
    "        x = self.d1(x)\n",
    "        y = torch.sigmoid(self.out(x))  # 出力を[0,1]\n",
    "        return y\n",
    "\n",
    "model = CAE_Baseline().to(DEVICE)\n",
    "sum(p.numel() for p in model.parameters())/1e6\n"
   ]
  },
  {
   "cell_type": "markdown",
   "id": "64090d8a",
   "metadata": {},
   "source": [
    "## 5. 損失・最適化・指標（MSE / PSNR）"
   ]
  },
  {
   "cell_type": "code",
   "execution_count": 6,
   "id": "9b715e2c",
   "metadata": {},
   "outputs": [],
   "source": [
    "\n",
    "criterion = nn.MSELoss()\n",
    "optim = torch.optim.Adam(model.parameters(), lr=CFG[\"lr\"], weight_decay=CFG[\"weight_decay\"])\n",
    "\n",
    "def psnr_from_mse(mse):\n",
    "    if mse <= 1e-12: return 99.0\n",
    "    return 10 * math.log10(1.0 / mse)  # 入出力を[0,1]前提\n"
   ]
  },
  {
   "cell_type": "markdown",
   "id": "ffbe6a07",
   "metadata": {},
   "source": [
    "## 6. 学習ループ & 検証"
   ]
  },
  {
   "cell_type": "code",
   "execution_count": null,
   "id": "3e58355e",
   "metadata": {},
   "outputs": [
    {
     "name": "stderr",
     "output_type": "stream",
     "text": [
      "/app/.venv/lib/python3.11/site-packages/torch/utils/data/dataloader.py:665: UserWarning: 'pin_memory' argument is set as true but no accelerator is found, then device pinned memory won't be used.\n",
      "  warnings.warn(warn_msg)\n",
      "/pytorch/third_party/ideep/mkl-dnn/src/cpu/aarch64/xbyak_aarch64/src/util_impl_linux.h, 451: Can't read MIDR_EL1 sysfs entry\n"
     ]
    }
   ],
   "source": [
    "\n",
    "train_losses, val_losses, val_psnrs = [], [], []\n",
    "\n",
    "@torch.no_grad()\n",
    "def validate():\n",
    "    model.eval()\n",
    "    total_loss, total_psnr, n = 0.0, 0.0, 0\n",
    "    for x, _ in test_loader:\n",
    "        x = x.to(DEVICE)\n",
    "        lr, hr = make_low_res(x, CFG[\"low_size\"], CFG[\"high_size\"])\n",
    "        sr = model(lr)\n",
    "        loss = criterion(sr, hr)\n",
    "        b = x.size(0)\n",
    "        total_loss += loss.item() * b\n",
    "        total_psnr += psnr_from_mse(loss.item()) * b\n",
    "        n += b\n",
    "    return total_loss / n, total_psnr / n if (val_psnrs := (total_psnr / n)) else (total_loss / n, 0.0)\n",
    "\n",
    "best = float(\"inf\")\n",
    "for ep in range(1, CFG[\"epochs\"] + 1):\n",
    "    model.train()\n",
    "    run_loss, m = 0.0, 0\n",
    "    for x, _ in train_loader:\n",
    "        x = x.to(DEVICE)\n",
    "        lr, hr = make_low_res(x, CFG[\"low_size\"], CFG[\"high_size\"])\n",
    "        sr = model(lr)\n",
    "        loss = criterion(sr, hr)\n",
    "        optim.zero_grad(); loss.backward(); optim.step()\n",
    "        run_loss += loss.item() * x.size(0); m += x.size(0)\n",
    "\n",
    "    tr = run_loss / m\n",
    "    va, va_psnr = validate()\n",
    "    train_losses.append(tr); val_losses.append(va); val_psnrs.append(va_psnr)\n",
    "    print(f\"[{ep:02d}/{CFG['epochs']}] train={tr:.4f}  val={va:.4f}  PSNR={va_psnr:.2f}dB\")\n",
    "\n",
    "    if va < best:\n",
    "        best = va\n",
    "        torch.save(model.state_dict(), os.path.join(CFG[\"save_dir\"], \"best_baseline.pth\"))\n"
   ]
  },
  {
   "cell_type": "markdown",
   "id": "4315bfed",
   "metadata": {},
   "source": [
    "## 7. 学習曲線の可視化（提出用アーティファクト）"
   ]
  },
  {
   "cell_type": "code",
   "execution_count": null,
   "id": "0324f538",
   "metadata": {},
   "outputs": [],
   "source": [
    "\n",
    "plt.figure(figsize=(7,3))\n",
    "plt.plot(train_losses, label=\"train MSE\"); plt.plot(val_losses, label=\"val MSE\")\n",
    "plt.xlabel(\"epoch\"); plt.ylabel(\"loss\"); plt.title(\"Learning Curves (Baseline)\")\n",
    "plt.grid(True); plt.legend(); plt.tight_layout()\n",
    "plt.savefig(os.path.join(CFG[\"save_dir\"], \"curves_baseline.png\")); plt.close()\n",
    "\n",
    "plt.figure(figsize=(6,3))\n",
    "plt.plot(val_psnrs, label=\"val PSNR\")\n",
    "plt.xlabel(\"epoch\"); plt.ylabel(\"dB\"); plt.title(\"Validation PSNR (Baseline)\")\n",
    "plt.grid(True); plt.legend(); plt.tight_layout()\n",
    "plt.savefig(os.path.join(CFG[\"save_dir\"], \"psnr_baseline.png\")); plt.close()\n",
    "\n",
    "os.listdir(CFG[\"save_dir\"])\n"
   ]
  },
  {
   "cell_type": "markdown",
   "id": "36599976",
   "metadata": {},
   "source": [
    "## 8. 予測デモ（LR → 出力SR → HR を1枚に）"
   ]
  },
  {
   "cell_type": "code",
   "execution_count": null,
   "id": "ca433856",
   "metadata": {},
   "outputs": [],
   "source": [
    "\n",
    "@torch.no_grad()\n",
    "def save_demo_grid():\n",
    "    model.load_state_dict(torch.load(os.path.join(CFG[\"save_dir\"], \"best_baseline.pth\"), map_location=DEVICE))\n",
    "    model.eval()\n",
    "    x, _ = next(iter(test_loader))\n",
    "    x = x[:16].to(DEVICE)\n",
    "    lr, hr = make_low_res(x, CFG[\"low_size\"], CFG[\"high_size\"])\n",
    "    sr = model(lr)\n",
    "    grid = torch.cat([lr.cpu(), sr.cpu(), hr.cpu()], dim=0)  # 16*3=48枚 (上:LR 中:SR 下:HR)\n",
    "    out_path = os.path.join(CFG[\"save_dir\"], \"demo_grid_baseline.png\")\n",
    "    utils.save_image(grid, out_path, nrow=16)\n",
    "    return out_path\n",
    "\n",
    "demo_path = save_demo_grid()\n",
    "demo_path\n"
   ]
  },
  {
   "cell_type": "markdown",
   "id": "bd54f822",
   "metadata": {},
   "source": [
    "<!-- Best is kernel=4, last dropout? -->"
   ]
  }
 ],
 "metadata": {
  "kernelspec": {
   "display_name": "Python 3 (ipykernel)",
   "language": "python",
   "name": "python3"
  },
  "language_info": {
   "codemirror_mode": {
    "name": "ipython",
    "version": 3
   },
   "file_extension": ".py",
   "mimetype": "text/x-python",
   "name": "python",
   "nbconvert_exporter": "python",
   "pygments_lexer": "ipython3",
   "version": "3.11.13"
  }
 },
 "nbformat": 4,
 "nbformat_minor": 5
}
